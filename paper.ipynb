{
 "cells": [
  {
   "cell_type": "code",
   "execution_count": 1,
   "id": "6835ef90",
   "metadata": {},
   "outputs": [
    {
     "name": "stdout",
     "output_type": "stream",
     "text": [
      "fetch\n",
      "0 https://epaperapi.jagran.com/naiduniaepaper/25102023/indore/m-24ina-pg1-0011509500.png\n",
      "1 https://epaperapi.jagran.com/naiduniaepaper/25102023/indore/m-24ina-pg2-0004421870.png\n",
      "2 https://epaperapi.jagran.com/naiduniaepaper/25102023/indore/m-24ina-pg3-0012123513.png\n",
      "3 https://epaperapi.jagran.com/naiduniaepaper/25102023/indore/m-24ina-pg4-0012936663.png\n",
      "4 https://epaperapi.jagran.com/naiduniaepaper/25102023/indore/m-24ina-pg5-0013140137.png\n",
      "5 https://epaperapi.jagran.com/naiduniaepaper/25102023/indore/m-24ina-pg6-0013343597.png\n",
      "6 https://epaperapi.jagran.com/naiduniaepaper/25102023/indore/m-24ngr-pg7-0010416590.png\n",
      "7 https://epaperapi.jagran.com/naiduniaepaper/25102023/indore/m-24ngr-pg8-0223000363.png\n",
      "8 https://epaperapi.jagran.com/naiduniaepaper/25102023/indore/m-24ngr-pg9-0010649797.png\n",
      "9 https://epaperapi.jagran.com/naiduniaepaper/25102023/indore/m-24ngr-pg10-0011259053.png\n",
      "10 https://epaperapi.jagran.com/naiduniaepaper/25102023/indore/m-24ngr-pg11-0010143070.png\n",
      "11 https://epaperapi.jagran.com/naiduniaepaper/25102023/indore/m-24ngr-pg12-0005905477.png\n",
      "12 https://epaperapi.jagran.com/naiduniaepaper/25102023/indore/m-24ina-pg13-0010930370.png\n",
      "13 https://epaperapi.jagran.com/naiduniaepaper/25102023/indore/m-24ngr-pg14-0011010710.png\n",
      "14 https://epaperapi.jagran.com/naiduniaepaper/25102023/indore/m-24ina-pg15-0011714270.png\n",
      "15 https://epaperapi.jagran.com/naiduniaepaper/25102023/indore/m-24ina-pg16-0011918977.png\n",
      "16 https://epaperapi.jagran.com/naiduniaEpaper/25102023/indore/24ina-pg1-0011509500.png\n",
      "['./dev/0-image.png', './dev/1-image.png', './dev/2-image.png', './dev/3-image.png', './dev/4-image.png', './dev/5-image.png', './dev/6-image.png', './dev/7-image.png', './dev/8-image.png', './dev/9-image.png', './dev/10-image.png', './dev/11-image.png', './dev/12-image.png', './dev/13-image.png', './dev/14-image.png', './dev/15-image.png', './dev/16-image.png'] downloaded\n"
     ]
    }
   ],
   "source": [
    "#!/usr/bin/env python\n",
    "\n",
    "import requests\n",
    "from bs4 import BeautifulSoup\n",
    "import urllib.request\n",
    "\n",
    "url = \"https://epaper.naidunia.com/epaper/25-oct-2023-74-indore-edition-indore.html\"\n",
    "#url = \"https://news.google.co.uk\"\n",
    "response = requests.get(url)\n",
    "# parse html\n",
    "page = str(BeautifulSoup(response.content))\n",
    "images =[]\n",
    "names =[]\n",
    "\n",
    "def getURL(page):\n",
    "    start_link = page.find(\"data-src\")\n",
    "    if start_link == -1:\n",
    "        return None, 0\n",
    "    start_quote = page.find('\"', start_link)\n",
    "    end_quote = page.find('\"', start_quote + 1)\n",
    "    url = page[start_quote + 1: end_quote]\n",
    "    return url, end_quote\n",
    "\n",
    "while True:\n",
    "    url, n = getURL(page)\n",
    "    page = page[n:]\n",
    "    if url:\n",
    "        if 'ss' not in url:\n",
    "            #print(url)\n",
    "            images.append(url);\n",
    "\n",
    "    else:  \n",
    "        print('fetch')\n",
    "        break\n",
    "#print(images)\n",
    "# imagelist is the list with all image filenames\n",
    "for index, image in enumerate(images):\n",
    "    print(index, image)\n",
    "    name = './dev/'+str(index) + '-image.png'\n",
    "    urllib.request.urlretrieve(image, name)\n",
    "    names.append(name)\n",
    "    \n",
    "print(names, 'downloaded')"
   ]
  },
  {
   "cell_type": "code",
   "execution_count": null,
   "id": "94983589",
   "metadata": {},
   "outputs": [],
   "source": []
  }
 ],
 "metadata": {
  "kernelspec": {
   "display_name": "Python 3",
   "language": "python",
   "name": "python3"
  },
  "language_info": {
   "codemirror_mode": {
    "name": "ipython",
    "version": 3
   },
   "file_extension": ".py",
   "mimetype": "text/x-python",
   "name": "python",
   "nbconvert_exporter": "python",
   "pygments_lexer": "ipython3",
   "version": "3.8.8"
  }
 },
 "nbformat": 4,
 "nbformat_minor": 5
}
